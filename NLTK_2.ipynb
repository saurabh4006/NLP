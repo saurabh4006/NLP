{
  "nbformat": 4,
  "nbformat_minor": 0,
  "metadata": {
    "colab": {
      "name": "Untitled0.ipynb",
      "provenance": [],
      "include_colab_link": true
    },
    "kernelspec": {
      "name": "python3",
      "display_name": "Python 3"
    }
  },
  "cells": [
    {
      "cell_type": "markdown",
      "metadata": {
        "id": "view-in-github",
        "colab_type": "text"
      },
      "source": [
        "<a href=\"https://colab.research.google.com/github/saurabh4006/NLP/blob/master/NLTK_2.ipynb\" target=\"_parent\"><img src=\"https://colab.research.google.com/assets/colab-badge.svg\" alt=\"Open In Colab\"/></a>"
      ]
    },
    {
      "cell_type": "code",
      "metadata": {
        "id": "yPM5VOi6C8De",
        "colab_type": "code",
        "colab": {}
      },
      "source": [
        "import spacy\n",
        "import pandas as pd"
      ],
      "execution_count": 0,
      "outputs": []
    },
    {
      "cell_type": "code",
      "metadata": {
        "id": "9ItYxrPyDAWd",
        "colab_type": "code",
        "colab": {}
      },
      "source": [
        "data = pd.read_json(\"http://snap.stanford.edu/data/amazon/productGraph/categoryFiles/reviews_Office_Products_5.json.gz\", lines=True)"
      ],
      "execution_count": 0,
      "outputs": []
    },
    {
      "cell_type": "code",
      "metadata": {
        "id": "JqM4bA6vDDQs",
        "colab_type": "code",
        "colab": {}
      },
      "source": [
        "nlp = spacy.load(\"en_core_web_sm\")"
      ],
      "execution_count": 0,
      "outputs": []
    },
    {
      "cell_type": "code",
      "metadata": {
        "id": "XSGi0z-UDDn6",
        "colab_type": "code",
        "colab": {}
      },
      "source": [
        "def tlpd(data):\n",
        "    doc = nlp(data['reviewText'])\n",
        "    tokens = []\n",
        "    lemmas = []\n",
        "    tags = []\n",
        "    dep = []\n",
        "    nouns = []\n",
        "    for token in doc:\n",
        "        tokens.append(token.text)\n",
        "        lemmas.append(token.lemma_)\n",
        "        tags.append(token.tag_)\n",
        "        dep.append(token.dep_)\n",
        "        if 'nn' in token.tag_.lower():\n",
        "            nouns.append(token.text)\n",
        "    return {'text': tokens, 'lemma_': lemmas, 'tag_': tags, 'dependency parser': dep, 'nouns': nouns, 'noun_count': len(nouns)}"
      ],
      "execution_count": 0,
      "outputs": []
    },
    {
      "cell_type": "code",
      "metadata": {
        "id": "xPuw4p0yDNwW",
        "colab_type": "code",
        "colab": {}
      },
      "source": [
        "data['spacy'] = data[:1000].apply(tlpd, axis=1)"
      ],
      "execution_count": 0,
      "outputs": []
    },
    {
      "cell_type": "code",
      "metadata": {
        "id": "aL_uc5loDmfX",
        "colab_type": "code",
        "colab": {
          "base_uri": "https://localhost:8080/",
          "height": 122
        },
        "outputId": "70cdc3e6-ced1-4bde-cc5c-d930ca8a9d01"
      },
      "source": [
        "data['spacy'].head()"
      ],
      "execution_count": 6,
      "outputs": [
        {
          "output_type": "execute_result",
          "data": {
            "text/plain": [
              "0    {'text': ['I', 'bought', 'my', 'first', 'HP12C...\n",
              "1    {'text': ['WHY', 'THIS', 'BELATED', 'REVIEW', ...\n",
              "2    {'text': ['I', 'have', 'an', 'HP', '48GX', 'th...\n",
              "3    {'text': ['I', ''ve', 'started', 'doing', 'mor...\n",
              "4    {'text': ['For', 'simple', 'calculations', 'an...\n",
              "Name: spacy, dtype: object"
            ]
          },
          "metadata": {
            "tags": []
          },
          "execution_count": 6
        }
      ]
    },
    {
      "cell_type": "code",
      "metadata": {
        "id": "liDBOq5nEHz1",
        "colab_type": "code",
        "colab": {
          "base_uri": "https://localhost:8080/",
          "height": 34
        },
        "outputId": "288782e1-12e6-4221-c8ef-2317d8e387b8"
      },
      "source": [
        "data.shape"
      ],
      "execution_count": 7,
      "outputs": [
        {
          "output_type": "execute_result",
          "data": {
            "text/plain": [
              "(53258, 10)"
            ]
          },
          "metadata": {
            "tags": []
          },
          "execution_count": 7
        }
      ]
    }
  ]
}