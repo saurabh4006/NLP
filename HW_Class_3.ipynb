{
  "nbformat": 4,
  "nbformat_minor": 0,
  "metadata": {
    "colab": {
      "name": "HW_Class_3.ipynb",
      "provenance": [],
      "include_colab_link": true
    },
    "kernelspec": {
      "name": "python3",
      "display_name": "Python 3"
    }
  },
  "cells": [
    {
      "cell_type": "markdown",
      "metadata": {
        "id": "view-in-github",
        "colab_type": "text"
      },
      "source": [
        "<a href=\"https://colab.research.google.com/github/saurabh4006/NLP/blob/master/HW_Class_3.ipynb\" target=\"_parent\"><img src=\"https://colab.research.google.com/assets/colab-badge.svg\" alt=\"Open In Colab\"/></a>"
      ]
    },
    {
      "cell_type": "code",
      "metadata": {
        "id": "25_LS0oIpsgO",
        "colab_type": "code",
        "colab": {}
      },
      "source": [
        "import pandas as pd\n",
        "import gzip\n",
        "import spacy"
      ],
      "execution_count": 0,
      "outputs": []
    },
    {
      "cell_type": "code",
      "metadata": {
        "id": "KOMi_tnMpvKZ",
        "colab_type": "code",
        "colab": {}
      },
      "source": [
        "df = pd.read_json(\"http://snap.stanford.edu/data/amazon/productGraph/categoryFiles/reviews_Office_Products_5.json.gz\" , lines=True)"
      ],
      "execution_count": 0,
      "outputs": []
    },
    {
      "cell_type": "code",
      "metadata": {
        "id": "MKHQGEr4pxOh",
        "colab_type": "code",
        "colab": {}
      },
      "source": [
        "nlp = spacy.load(\"en_core_web_sm\")"
      ],
      "execution_count": 0,
      "outputs": []
    },
    {
      "cell_type": "code",
      "metadata": {
        "id": "5uJmXNPkpzXO",
        "colab_type": "code",
        "colab": {}
      },
      "source": [
        "def SPACY(str):\n",
        "    tokenization = []\n",
        "    lemmatization = []\n",
        "    pos_tags = []\n",
        "    dependency_parser = []\n",
        "    nouns = []\n",
        "    doc = nlp(str)\n",
        "    for word in doc:\n",
        "        tokenization.append(word.text)\n",
        "        lemmatization.append(word.lemma_)\n",
        "        pos_tags.append(word.pos_)\n",
        "        dependency_parser.append(word.dep_)\n",
        "        if 'nn' in word.tag_.lower():\n",
        "            nouns.append(word.text)\n",
        "    return {'text': tokenization, 'lemma_': lemmatization, 'tag_': pos_tags, 'dependency parser': dependency_parser, 'nouns': nouns, 'noun_count': len(nouns)}"
      ],
      "execution_count": 0,
      "outputs": []
    },
    {
      "cell_type": "code",
      "metadata": {
        "id": "zWtOh8JIp46u",
        "colab_type": "code",
        "colab": {}
      },
      "source": [
        "df['reviewtext_spacy'] = df.iloc[0:20]['reviewText'].apply(SPACY)"
      ],
      "execution_count": 0,
      "outputs": []
    },
    {
      "cell_type": "code",
      "metadata": {
        "id": "AnkFx1-8p-Di",
        "colab_type": "code",
        "colab": {
          "base_uri": "https://localhost:8080/",
          "height": 263
        },
        "outputId": "e4fc9142-e087-4501-e1db-f8a283981c73"
      },
      "source": [
        "df.head"
      ],
      "execution_count": 7,
      "outputs": [
        {
          "output_type": "execute_result",
          "data": {
            "text/plain": [
              "<bound method NDFrame.head of            reviewerID  ...                                   reviewtext_spacy\n",
              "0      A32T2H8150OJLU  ...  {'text': ['I', 'bought', 'my', 'first', 'HP12C...\n",
              "1      A3MAFS04ZABRGO  ...  {'text': ['WHY', 'THIS', 'BELATED', 'REVIEW', ...\n",
              "2      A1F1A0QQP2XVH5  ...  {'text': ['I', 'have', 'an', 'HP', '48GX', 'th...\n",
              "3       A49R5DBXXQDE5  ...  {'text': ['I', ''ve', 'started', 'doing', 'mor...\n",
              "4      A2XRMQA6PJ5ZJ8  ...  {'text': ['For', 'simple', 'calculations', 'an...\n",
              "...               ...  ...                                                ...\n",
              "53253  A1ODOGXEYECQQ8  ...                                                NaN\n",
              "53254  A2XX2A4OJCDNLZ  ...                                                NaN\n",
              "53255  A3LGT6UZL99IW1  ...                                                NaN\n",
              "53256  A1XJOSJN6FHFO0  ...                                                NaN\n",
              "53257   AAEVGE52KL0DJ  ...                                                NaN\n",
              "\n",
              "[53258 rows x 10 columns]>"
            ]
          },
          "metadata": {
            "tags": []
          },
          "execution_count": 7
        }
      ]
    }
  ]
}