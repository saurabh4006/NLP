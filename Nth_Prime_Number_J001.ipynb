{
  "nbformat": 4,
  "nbformat_minor": 0,
  "metadata": {
    "colab": {
      "name": "Untitled3.ipynb",
      "provenance": [],
      "include_colab_link": true
    },
    "kernelspec": {
      "name": "python3",
      "display_name": "Python 3"
    }
  },
  "cells": [
    {
      "cell_type": "markdown",
      "metadata": {
        "id": "view-in-github",
        "colab_type": "text"
      },
      "source": [
        "<a href=\"https://colab.research.google.com/github/saurabh4006/NLP/blob/master/Nth_Prime_Number_J001.ipynb\" target=\"_parent\"><img src=\"https://colab.research.google.com/assets/colab-badge.svg\" alt=\"Open In Colab\"/></a>"
      ]
    },
    {
      "cell_type": "code",
      "metadata": {
        "id": "0DRIcJ9fS57u",
        "colab_type": "code",
        "colab": {}
      },
      "source": [
        "import numpy as np\n",
        "import pandas as pd"
      ],
      "execution_count": 0,
      "outputs": []
    },
    {
      "cell_type": "code",
      "metadata": {
        "id": "xZK_rtytS50S",
        "colab_type": "code",
        "colab": {}
      },
      "source": [
        "def prime(n):\n",
        "      flag = 0\n",
        "      for x in range(2,int(n**0.5)+1):\n",
        "          if n % x == 0:\n",
        "              flag = 1\n",
        "              break\n",
        "      if flag == 1:\n",
        "          return False\n",
        "      else:\n",
        "          return True"
      ],
      "execution_count": 0,
      "outputs": []
    },
    {
      "cell_type": "code",
      "metadata": {
        "id": "-EFh6kwfS5oh",
        "colab_type": "code",
        "colab": {}
      },
      "source": [
        "def nth_prime(n):\n",
        "  i = 2\n",
        "  count = 0\n",
        "  while True:\n",
        "      if prime(i) == True:\n",
        "        count += 1\n",
        "      if count == n:\n",
        "        print(i)\n",
        "        break\n",
        "      i += 1"
      ],
      "execution_count": 0,
      "outputs": []
    },
    {
      "cell_type": "code",
      "metadata": {
        "id": "VIUjhRPrUhxT",
        "colab_type": "code",
        "colab": {
          "base_uri": "https://localhost:8080/",
          "height": 34
        },
        "outputId": "5a591d0e-025e-489d-f15c-74dd437e6501"
      },
      "source": [
        "nth_prime(7)"
      ],
      "execution_count": 9,
      "outputs": [
        {
          "output_type": "stream",
          "text": [
            "17\n"
          ],
          "name": "stdout"
        }
      ]
    }
  ]
}